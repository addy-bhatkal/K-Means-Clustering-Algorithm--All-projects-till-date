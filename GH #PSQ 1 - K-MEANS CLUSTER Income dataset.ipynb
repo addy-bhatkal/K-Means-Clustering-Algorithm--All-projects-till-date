{
 "cells": [
  {
   "cell_type": "code",
   "execution_count": 159,
   "id": "3e85f814",
   "metadata": {},
   "outputs": [],
   "source": [
    "#PSQ"
   ]
  },
  {
   "cell_type": "code",
   "execution_count": 160,
   "id": "ae561011",
   "metadata": {},
   "outputs": [],
   "source": [
    "import pandas as pd, numpy as np\n",
    "import matplotlib.pyplot as plt\n",
    "from sklearn.cluster import KMeans\n",
    "from sklearn.preprocessing import StandardScaler, MinMaxScaler"
   ]
  },
  {
   "cell_type": "code",
   "execution_count": 161,
   "id": "6acad9d9",
   "metadata": {},
   "outputs": [
    {
     "data": {
      "text/html": [
       "<div>\n",
       "<style scoped>\n",
       "    .dataframe tbody tr th:only-of-type {\n",
       "        vertical-align: middle;\n",
       "    }\n",
       "\n",
       "    .dataframe tbody tr th {\n",
       "        vertical-align: top;\n",
       "    }\n",
       "\n",
       "    .dataframe thead th {\n",
       "        text-align: right;\n",
       "    }\n",
       "</style>\n",
       "<table border=\"1\" class=\"dataframe\">\n",
       "  <thead>\n",
       "    <tr style=\"text-align: right;\">\n",
       "      <th></th>\n",
       "      <th>YearsExperience</th>\n",
       "      <th>Age</th>\n",
       "      <th>Income</th>\n",
       "    </tr>\n",
       "  </thead>\n",
       "  <tbody>\n",
       "    <tr>\n",
       "      <th>0</th>\n",
       "      <td>-1.671017</td>\n",
       "      <td>-1.612520</td>\n",
       "      <td>-1.084209</td>\n",
       "    </tr>\n",
       "    <tr>\n",
       "      <th>1</th>\n",
       "      <td>-1.551464</td>\n",
       "      <td>-1.444787</td>\n",
       "      <td>-1.060813</td>\n",
       "    </tr>\n",
       "    <tr>\n",
       "      <th>2</th>\n",
       "      <td>-1.431912</td>\n",
       "      <td>-1.444787</td>\n",
       "      <td>-0.429111</td>\n",
       "    </tr>\n",
       "    <tr>\n",
       "      <th>3</th>\n",
       "      <td>-1.133031</td>\n",
       "      <td>-1.109322</td>\n",
       "      <td>-0.897038</td>\n",
       "    </tr>\n",
       "    <tr>\n",
       "      <th>4</th>\n",
       "      <td>-1.013478</td>\n",
       "      <td>-1.109322</td>\n",
       "      <td>-0.663075</td>\n",
       "    </tr>\n",
       "    <tr>\n",
       "      <th>5</th>\n",
       "      <td>-0.595045</td>\n",
       "      <td>-0.941590</td>\n",
       "      <td>-1.072511</td>\n",
       "    </tr>\n",
       "    <tr>\n",
       "      <th>6</th>\n",
       "      <td>-0.535269</td>\n",
       "      <td>-0.941590</td>\n",
       "      <td>-0.616282</td>\n",
       "    </tr>\n",
       "    <tr>\n",
       "      <th>7</th>\n",
       "      <td>-0.415716</td>\n",
       "      <td>-0.941590</td>\n",
       "      <td>0.038817</td>\n",
       "    </tr>\n",
       "    <tr>\n",
       "      <th>8</th>\n",
       "      <td>-0.415716</td>\n",
       "      <td>-0.606125</td>\n",
       "      <td>-0.897038</td>\n",
       "    </tr>\n",
       "    <tr>\n",
       "      <th>9</th>\n",
       "      <td>-0.116835</td>\n",
       "      <td>0.064806</td>\n",
       "      <td>0.857690</td>\n",
       "    </tr>\n",
       "    <tr>\n",
       "      <th>10</th>\n",
       "      <td>0.002717</td>\n",
       "      <td>0.232538</td>\n",
       "      <td>1.629770</td>\n",
       "    </tr>\n",
       "    <tr>\n",
       "      <th>11</th>\n",
       "      <td>0.062493</td>\n",
       "      <td>0.400271</td>\n",
       "      <td>0.974672</td>\n",
       "    </tr>\n",
       "    <tr>\n",
       "      <th>12</th>\n",
       "      <td>0.062493</td>\n",
       "      <td>0.568004</td>\n",
       "      <td>1.676563</td>\n",
       "    </tr>\n",
       "    <tr>\n",
       "      <th>13</th>\n",
       "      <td>0.122270</td>\n",
       "      <td>0.735736</td>\n",
       "      <td>-0.709867</td>\n",
       "    </tr>\n",
       "    <tr>\n",
       "      <th>14</th>\n",
       "      <td>0.361374</td>\n",
       "      <td>0.735736</td>\n",
       "      <td>-0.195147</td>\n",
       "    </tr>\n",
       "    <tr>\n",
       "      <th>15</th>\n",
       "      <td>0.600479</td>\n",
       "      <td>0.735736</td>\n",
       "      <td>1.442599</td>\n",
       "    </tr>\n",
       "    <tr>\n",
       "      <th>16</th>\n",
       "      <td>0.720032</td>\n",
       "      <td>0.903469</td>\n",
       "      <td>-0.616282</td>\n",
       "    </tr>\n",
       "    <tr>\n",
       "      <th>17</th>\n",
       "      <td>0.839584</td>\n",
       "      <td>1.071201</td>\n",
       "      <td>-0.639678</td>\n",
       "    </tr>\n",
       "    <tr>\n",
       "      <th>18</th>\n",
       "      <td>1.198241</td>\n",
       "      <td>1.071201</td>\n",
       "      <td>-0.195147</td>\n",
       "    </tr>\n",
       "    <tr>\n",
       "      <th>19</th>\n",
       "      <td>1.258017</td>\n",
       "      <td>1.071201</td>\n",
       "      <td>1.676563</td>\n",
       "    </tr>\n",
       "    <tr>\n",
       "      <th>20</th>\n",
       "      <td>1.736227</td>\n",
       "      <td>1.155068</td>\n",
       "      <td>1.442599</td>\n",
       "    </tr>\n",
       "    <tr>\n",
       "      <th>21</th>\n",
       "      <td>1.915556</td>\n",
       "      <td>1.406666</td>\n",
       "      <td>-0.663075</td>\n",
       "    </tr>\n",
       "  </tbody>\n",
       "</table>\n",
       "</div>"
      ],
      "text/plain": [
       "    YearsExperience       Age    Income\n",
       "0         -1.671017 -1.612520 -1.084209\n",
       "1         -1.551464 -1.444787 -1.060813\n",
       "2         -1.431912 -1.444787 -0.429111\n",
       "3         -1.133031 -1.109322 -0.897038\n",
       "4         -1.013478 -1.109322 -0.663075\n",
       "5         -0.595045 -0.941590 -1.072511\n",
       "6         -0.535269 -0.941590 -0.616282\n",
       "7         -0.415716 -0.941590  0.038817\n",
       "8         -0.415716 -0.606125 -0.897038\n",
       "9         -0.116835  0.064806  0.857690\n",
       "10         0.002717  0.232538  1.629770\n",
       "11         0.062493  0.400271  0.974672\n",
       "12         0.062493  0.568004  1.676563\n",
       "13         0.122270  0.735736 -0.709867\n",
       "14         0.361374  0.735736 -0.195147\n",
       "15         0.600479  0.735736  1.442599\n",
       "16         0.720032  0.903469 -0.616282\n",
       "17         0.839584  1.071201 -0.639678\n",
       "18         1.198241  1.071201 -0.195147\n",
       "19         1.258017  1.071201  1.676563\n",
       "20         1.736227  1.155068  1.442599\n",
       "21         1.915556  1.406666 -0.663075"
      ]
     },
     "execution_count": 161,
     "metadata": {},
     "output_type": "execute_result"
    }
   ],
   "source": [
    "df = pd.read_csv('income.csv')\n",
    "ss = StandardScaler()\n",
    "df = pd.DataFrame(ss.fit_transform(df), columns=df.columns)\n",
    "df"
   ]
  },
  {
   "cell_type": "code",
   "execution_count": 162,
   "id": "401922fc",
   "metadata": {},
   "outputs": [],
   "source": [
    "df = df[['Age','Income']]"
   ]
  },
  {
   "cell_type": "code",
   "execution_count": 163,
   "id": "88814503",
   "metadata": {},
   "outputs": [
    {
     "name": "stderr",
     "output_type": "stream",
     "text": [
      "C:\\Users\\ABC\\anaconda3\\lib\\site-packages\\sklearn\\cluster\\_kmeans.py:1036: UserWarning: KMeans is known to have a memory leak on Windows with MKL, when there are less chunks than available threads. You can avoid it by setting the environment variable OMP_NUM_THREADS=1.\n",
      "  warnings.warn(\n"
     ]
    }
   ],
   "source": [
    "sse = []\n",
    "for k in range(1,10):\n",
    "    km1 = KMeans(n_clusters=k)\n",
    "    model = km1.fit_predict(df)\n",
    "    sse.append(km1.inertia_)"
   ]
  },
  {
   "cell_type": "code",
   "execution_count": 164,
   "id": "c73ef0e6",
   "metadata": {},
   "outputs": [
    {
     "data": {
      "text/plain": [
       "[<matplotlib.lines.Line2D at 0x22d3db95070>]"
      ]
     },
     "execution_count": 164,
     "metadata": {},
     "output_type": "execute_result"
    },
    {
     "data": {
      "image/png": "[encoded data removed]",
      "text/plain": [
       "<Figure size 640x480 with 1 Axes>"
      ]
     },
     "metadata": {},
     "output_type": "display_data"
    }
   ],
   "source": [
    "plt.scatter(range(1,10), sse)\n",
    "plt.plot(range(1,10), sse)"
   ]
  },
  {
   "cell_type": "code",
   "execution_count": 165,
   "id": "4f5cfc01",
   "metadata": {},
   "outputs": [],
   "source": [
    "km = KMeans(n_clusters=4)\n",
    "model1 = km.fit_predict(df)\n",
    "y_pred = km.predict(df)\n",
    "cc = km.cluster_centers_"
   ]
  },
  {
   "cell_type": "code",
   "execution_count": 166,
   "id": "1ff17368",
   "metadata": {},
   "outputs": [],
   "source": [
    "df['clusters'] = y_pred"
   ]
  },
  {
   "cell_type": "code",
   "execution_count": 167,
   "id": "636f1b16",
   "metadata": {},
   "outputs": [],
   "source": [
    "df1 = df[df['clusters']==0] \n",
    "df2 = df[df['clusters']==1] \n",
    "df3 = df[df['clusters']==2]\n",
    "df4 = df[df['clusters']==3]\n",
    "a = km.cluster_centers_[:,0]\n",
    "b = km.cluster_centers_[:,1]"
   ]
  },
  {
   "cell_type": "code",
   "execution_count": 168,
   "id": "93d7a70a",
   "metadata": {},
   "outputs": [
    {
     "data": {
      "text/plain": [
       "<matplotlib.collections.PathCollection at 0x22d40b661f0>"
      ]
     },
     "execution_count": 168,
     "metadata": {},
     "output_type": "execute_result"
    },
    {
     "data": {
      "image/png": "[encoded data removed]",
      "text/plain": [
       "<Figure size 640x480 with 1 Axes>"
      ]
     },
     "metadata": {},
     "output_type": "display_data"
    }
   ],
   "source": [
    "plt.scatter(df1.Age, df1.Income, color = 'yellow')\n",
    "plt.scatter(df2.Age, df2.Income, color = 'green')\n",
    "plt.scatter(df3.Age, df3.Income, color = 'blue')\n",
    "plt.scatter(df4.Age, df4.Income, color = 'red')\n",
    "plt.scatter(a,b,color='black')\n"
   ]
  },
  {
   "cell_type": "code",
   "execution_count": null,
   "id": "cdc1e6d7",
   "metadata": {},
   "outputs": [],
   "source": []
  },
  {
   "cell_type": "code",
   "execution_count": null,
   "id": "06516e1c",
   "metadata": {},
   "outputs": [],
   "source": []
  }
 ],
 "metadata": {
  "kernelspec": {
   "display_name": "Python 3 (ipykernel)",
   "language": "python",
   "name": "python3"
  },
  "language_info": {
   "codemirror_mode": {
    "name": "ipython",
    "version": 3
   },
   "file_extension": ".py",
   "mimetype": "text/x-python",
   "name": "python",
   "nbconvert_exporter": "python",
   "pygments_lexer": "ipython3",
   "version": "3.9.13"
  }
 },
 "nbformat": 4,
 "nbformat_minor": 5
}
